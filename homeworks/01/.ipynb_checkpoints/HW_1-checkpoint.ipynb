{
 "cells": [
  {
   "cell_type": "code",
   "execution_count": 106,
   "metadata": {},
   "outputs": [],
   "source": [
    "class HashMap:\n",
    "    \n",
    "    class Entry:\n",
    "        def __init__(self, key, value):\n",
    "            #TODO store key and value as attributes\n",
    "            self.key = key\n",
    "            self.value = value\n",
    "            \n",
    "        def get_key(self):\n",
    "            #TODO return key\n",
    "            return self.key\n",
    "            \n",
    "        def get_value(self):\n",
    "            #TODO return value\n",
    "            return self.value\n",
    "            \n",
    "        def __eq__(self, other):\n",
    "            #TODO реализовать функцию сравнения\n",
    "            #Пояснения: self - текущий объект entry, other - какой-то другой объект\n",
    "            #Какое условие на равенство объектов в ассоциативном массиве?\n",
    "            #Если объекты равны, то метод должен возвращать True, иначе False\n",
    "            return self.get_key() == other.get_key()\n",
    "    \n",
    "    def __init__(self, bucket_num = 64):\n",
    "        #TODO Создать массив для бакетов\n",
    "        self.num_bucket  = bucket_num\n",
    "        self.bucket = []\n",
    "        for i in range(self.num_bucket):\n",
    "            self.bucket.append([]) \n",
    "\n",
    "    def get(self, key, default_value=None):\n",
    "        #TODO метод get, возвращающий значение, если оно присутствует, иначе default_value\n",
    "        i = self._get_index(self._get_hash(key))\n",
    "        elements = self.bucket[i]\n",
    "        for val in elements:        \n",
    "            if val and val.get_key() == key:\n",
    "                return val.get_value()\n",
    "        return default_value\n",
    "\n",
    "    def put(self, key, value):\n",
    "        #TODO метод put, кладет значение по ключу, в случае, если ключ уже присутствует он его заменяет\n",
    "        i = self._get_index(self._get_hash(key))\n",
    "        if self.get(key) == None :\n",
    "            self.bucket[i].append(self.Entry(key, value))\n",
    "        for element in self.bucket[i]:\n",
    "            if element.get_key() == key:\n",
    "                element.value = value\n",
    "                break\n",
    "\n",
    "    def __len__(self):\n",
    "        #TODO Возвращает количество Entry в массиве\n",
    "        num = 0\n",
    "        for i in range(self.num_bucket):\n",
    "            if self.bucket[i]:\n",
    "                num += len(self.bucket[i])\n",
    "        return num\n",
    "\n",
    "    def _get_hash(self, key):\n",
    "        #TODO Вернуть хеш от ключа, по которому он кладется в бакет\n",
    "        return hash(key)\n",
    "\n",
    "    def _get_index(self, hash_value):\n",
    "        #TODO По значению хеша вернуть индекс элемента в массиве\n",
    "        return hash_value % self.num_bucket\n",
    "        \n",
    "    def values(self):\n",
    "        #TODO Задание со звездочкой!\n",
    "        #Должен возвращать генератор или итератор значений (на самом деле итератор, но не принципиально, через генераторы проще ИМХО)\n",
    "        for i in self.bucket:\n",
    "            if i:\n",
    "                for element in i:\n",
    "                    yield element.get_value()\n",
    "    def keys(self):\n",
    "        #TODO Задание со звездочкой!\n",
    "        #Должен возвращать генератор или итератор ключей (на самом деле итератор, но не принципиально, через генераторы проще ИМХО)\n",
    "        for i in self.bucket:\n",
    "            if i:\n",
    "                for element in i:\n",
    "                    yield element.get_key()\n",
    "    def items(self):\n",
    "        #TODO Задание со звездочкой!\n",
    "        #Должен возвращать генератор или итератор пар ключ и значение (tuples)\n",
    "        #(на самом деле итератор, но не принципиально, через генераторы проще ИМХО)\n",
    "        for i in self.bucket:\n",
    "            if i:\n",
    "                for element in i:\n",
    "                    yield element.get_key(), element.get_value()\n",
    "    def __str__(self):\n",
    "        #TODO Метод, вызываемый при вызове print, пофантазируйте, что можно написать\n",
    "        keys = [k for k in self.keys()]\n",
    "        values = [v for v in self.values()]\n",
    "        return 'keys:'+ str(keys) + ' values:'+ str(vals)"
   ]
  },
  {
   "cell_type": "code",
   "execution_count": 169,
   "metadata": {},
   "outputs": [],
   "source": [
    "class HashSet(HashMap):\n",
    "   \n",
    "    def get(self, key, default_value=None):\n",
    "        #TODO достаточно переопределить данный метод\n",
    "        i = self._get_index(self._get_hash(key))\n",
    "        elements = self.bucket[i]        \n",
    "        for val in elements:\n",
    "            if val and val.get_key()==key:\n",
    "                return val.get_key()\n",
    "        return default_value\n",
    "\n",
    "    def put(self, key, value=None):\n",
    "        #TODO метод put, нужно переопределить данный метод\n",
    "        if key not in self.values():   \n",
    "            i = self._get_index(self._get_hash(key))\n",
    "            self.bucket[i].append(self.Entry(key, None))\n",
    "\n",
    "    def __len__(self):\n",
    "        #TODO Возвращает количество Entry в массиве\n",
    "        return HashMap.__len__(self)\n",
    "\n",
    "    def values(self):\n",
    "        #TODO Задание со звездочкой!\n",
    "        #Если делали, то нужно бы переопределить\n",
    "        #Должен возвращать генератор или итератор значений (на самом деле итератор, но не принципиально, через генераторы проще ИМХО)\n",
    "        return self.keys()"
   ]
  },
  {
   "cell_type": "code",
   "execution_count": 176,
   "metadata": {},
   "outputs": [
    {
     "name": "stdout",
     "output_type": "stream",
     "text": [
      "Test 4 part 01 passed\n",
      "Test 4 part 02 passed\n"
     ]
    }
   ],
   "source": [
    "import random\n",
    "\n",
    "def test_hashmap_04():\n",
    "    entries = [[5, 7], (\"entries\", 56), (\"value\", 54.), (1000, \"t\"), (HashMap(10), ()), ({\"s\":\"v\"}, {\"v\":\"s\"})]\n",
    "    for k, v in entries:\n",
    "        entry = HashMap.Entry(k, v)\n",
    "        assert entry.get_key() == k\n",
    "        assert entry.get_value() == v\n",
    "    print(\"Test 4 part 01 passed\")\n",
    "        \n",
    "    for i in range(len(entries)):\n",
    "        entry_one = HashMap.Entry(entries[i][0], entries[i][1])\n",
    "        for _ in range(10):\n",
    "            j = random.randint(0, len(entries)-1)\n",
    "            p = random.randint(0, len(entries)-1)\n",
    "            entry_two = HashMap.Entry(entries[j][0], entries[p][1])\n",
    "            if j == i:\n",
    "                assert entry_one == entry_two\n",
    "            else:\n",
    "                assert entry_one != entry_two\n",
    "    print(\"Test 4 part 02 passed\")\n",
    "test_hashmap_04()"
   ]
  },
  {
   "cell_type": "code",
   "execution_count": 177,
   "metadata": {},
   "outputs": [
    {
     "name": "stdout",
     "output_type": "stream",
     "text": [
      "Test 5 part 01 passed\n",
      "Test 5 part 02 passed\n"
     ]
    }
   ],
   "source": [
    "def test_hashmap_05():\n",
    "    hashmap = HashMap(10)\n",
    "    assert sum(isinstance(v, list) for k, v in hashmap.__dict__.items()) == 1\n",
    "    print(\"Test 5 part 01 passed\")\n",
    "    \n",
    "    inner_list_name = [k for k, v in hashmap.__dict__.items() if isinstance(v, list)][0]\n",
    "    for i in range(10):\n",
    "        assert len(HashMap(i).__dict__[inner_list_name]) == i\n",
    "    print(\"Test 5 part 02 passed\")\n",
    "test_hashmap_05()"
   ]
  },
  {
   "cell_type": "code",
   "execution_count": 178,
   "metadata": {},
   "outputs": [
    {
     "name": "stdout",
     "output_type": "stream",
     "text": [
      "Test 6 part 01 passed\n",
      "default\n",
      "Test 6 part 02 passed\n"
     ]
    }
   ],
   "source": [
    "def test_hashmap_06():\n",
    "    hashmap = HashMap(10)\n",
    "    entries = [(5, 7), (\"entries\", 56), (\"value\", 54.), (1000, \"t\"), (HashMap(10), ())]\n",
    "    for k, v in entries:\n",
    "        hashmap.put(k, v)\n",
    "    for k, v in entries:\n",
    "        assert hashmap.get(k) == v\n",
    "    print(\"Test 6 part 01 passed\")\n",
    "    \n",
    "    for _ in range(100):\n",
    "        i = random.randint(0, len(entries)-1)\n",
    "        j = random.randint(0, len(entries)-1)\n",
    "        hashmap.put(i, j)\n",
    "        assert hashmap.get(i) == j\n",
    "    print(hashmap.get(\"nexit\", \"default\"))    \n",
    "    assert hashmap.get(\"nexit\", \"default\") ==\"default\"\n",
    "    print(\"Test 6 part 02 passed\")\n",
    "test_hashmap_06()"
   ]
  },
  {
   "cell_type": "code",
   "execution_count": null,
   "metadata": {},
   "outputs": [],
   "source": []
  }
 ],
 "metadata": {
  "kernelspec": {
   "display_name": "Python 3",
   "language": "python",
   "name": "python3"
  },
  "language_info": {
   "codemirror_mode": {
    "name": "ipython",
    "version": 3
   },
   "file_extension": ".py",
   "mimetype": "text/x-python",
   "name": "python",
   "nbconvert_exporter": "python",
   "pygments_lexer": "ipython3",
   "version": "3.5.2"
  }
 },
 "nbformat": 4,
 "nbformat_minor": 2
}
