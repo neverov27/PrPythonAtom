{
 "cells": [
  {
   "cell_type": "markdown",
   "metadata": {},
   "source": [
    "# Недельник 1\n",
    "\n",
    "Как было сказано на лекции, на текущей неделе вы получаете ежедневные задания. Система оценки следующая: в первый день(четверг) вы делаете первый pull-request в ветку homework_01. Потом каждый день делаете коммит, он будет автоматически привязывать к pull-request. Если задачка не сделана в течении 2-х дней она сгорает. (Можно четверг сделать в четверг и пятницу)"
   ]
  },
  {
   "cell_type": "markdown",
   "metadata": {},
   "source": [
    "# Четверг"
   ]
  },
  {
   "cell_type": "code",
   "execution_count": 1,
   "metadata": {},
   "outputs": [],
   "source": [
    "\n",
    "#TODO Сделайте калькулятор произвольных выражений, операции следующие: +, -, /, ^, *. скобок нет\n",
    "def calculate(input_str):    \n",
    "\n",
    "    #рисуем % и превращаем строку в массив разделяя ими    \n",
    "    s = input_str\n",
    "    s = s.replace(' ','')\n",
    "    for i in ['+','-','*','/','^']:\n",
    "        s = s.replace(i, '%' + i + '%')\n",
    "    s = s.split('%')\n",
    "    if s[0] == '':\n",
    "        s[0] = '0'\n",
    "    #print(s)\n",
    "    \n",
    "    #сначала возводим в степень\n",
    "    i = 0\n",
    "    while True:      \n",
    "        if s[i] == \"^\":\n",
    "            count = float(s[i-1])**float(s[i+1])\n",
    "            s[i] = str(count)\n",
    "            del s[i-1]\n",
    "            del s[i] #так как массив сдвинулся на 1\n",
    "            i = i-1 #аналогично\n",
    "        i += 1\n",
    "        if i>=len(s):\n",
    "            break\n",
    "            \n",
    "    #умножение/деление\n",
    "    i = 0\n",
    "    while True:        \n",
    "        if s[i] == \"*\":\n",
    "            count = float(s[i-1])*float(s[i+1])\n",
    "            s[i] = str(count)\n",
    "            del s[i-1]\n",
    "            del s[i]\n",
    "            i = i-1\n",
    "        \n",
    "        elif s[i] == \"/\":\n",
    "            count = float(s[i-1])/float(s[i+1])\n",
    "            s[i] = str(count)\n",
    "            del s[i-1]\n",
    "            del s[i]\n",
    "            i = i-1\n",
    "        i += 1\n",
    "        if i>=len(s):\n",
    "            break\n",
    "            \n",
    "    #сложение/вычитание\n",
    "    i = 0\n",
    "    while True:\n",
    "        if s[i] == \"+\":\n",
    "            count = float(s[i-1])+float(s[i+1])\n",
    "            s[i] = str(count)\n",
    "            del s[i-1]\n",
    "            del s[i]\n",
    "            i = i -1\n",
    "        \n",
    "        elif s[i] == \"-\":\n",
    "            count = float(s[i-1])-float(s[i+1])\n",
    "            s[i] = str(count)\n",
    "            del s[i-1]\n",
    "            del s[i]\n",
    "            i = i -1\n",
    "        i += 1\n",
    "        if i>=len(s):\n",
    "            break\n",
    "            \n",
    "    return float(s[0])"
   ]
  },
  {
   "cell_type": "code",
   "execution_count": 2,
   "metadata": {},
   "outputs": [],
   "source": [
    "assert calculate(\"2 + 2 * 2\") == 6\n",
    "assert calculate(\"345 / 5 * 21\") == 1449\n",
    "assert calculate(\"3^3 - 10 + 41 * 3\") == 140\n",
    "assert calculate(\"42 / 7 * 32\") == 192\n",
    "#TODO Дополнить еще 2-мя своими тестами\n",
    "assert calculate(\"2^2 * 2 * 2 / 8 - 2\") == 0\n",
    "assert calculate(\"2*2+2-2*2- 2\") == 0"
   ]
  },
  {
   "cell_type": "markdown",
   "metadata": {},
   "source": [
    "# Пятница"
   ]
  },
  {
   "cell_type": "code",
   "execution_count": 10,
   "metadata": {},
   "outputs": [],
   "source": [
    "#TODO метод разворачивающий строку HE2LO -> HELLO (число означает сколько раз встречается буква)\n",
    "def transform_string(inp_string):\n",
    "    s = ''\n",
    "    for i in range(len(inp_string)):\n",
    "        if inp_string[i].isdigit() == True:\n",
    "            k = i\n",
    "            while inp_string[i].isdigit() == True:\n",
    "                s+=inp_string[i]\n",
    "                i=i+1\n",
    "            return inp_string[:k] + int(s)*inp_string[i] + transform_string(inp_string[i+1:])\n",
    "    return inp_string"
   ]
  },
  {
   "cell_type": "code",
   "execution_count": 15,
   "metadata": {},
   "outputs": [],
   "source": [
    "assert transform_string(\"HE2LO\") == \"HELLO\"\n",
    "assert transform_string(\"HI\") == \"HI\"\n",
    "assert transform_string(\"пр12ивет\") == \"приииииииииииивет\"\n",
    "assert transform_string(\"2л3у78н65тик\") == 'ллуууннннннннннннннннннннннннннннннннннннннннннннннннннннннннннннннннннннннннннннннтттттттттттттттттттттттттттттттттттттттттттттттттттттттттттттттттик' \n",
    "#TODO Дописать 2 своих теста\n",
    "assert transform_string('10k') == 'kkkkkkkkkk'\n",
    "assert transform_string('b1r2ed') == 'breed'"
   ]
  },
  {
   "cell_type": "markdown",
   "metadata": {},
   "source": [
    "# Суббота"
   ]
  },
  {
   "cell_type": "code",
   "execution_count": 13,
   "metadata": {},
   "outputs": [],
   "source": [
    "#TODO метод выводящий статистику по строке, кол-во гласных, согласных, цифр, строчных букв, прописных букв\n",
    "def string_stat(inp_string):\n",
    "    s = [0,0,0,0,0]\n",
    "    gl = 'АЕЁИОУЫЭЮЯAEаеёиоуыэюяae'\n",
    "    for i in inp_string:\n",
    "        if i.isdigit():\n",
    "            s[2]+=1\n",
    "        elif i in gl:\n",
    "            s[0]+=1\n",
    "            if i.islower():\n",
    "                s[3]+=1\n",
    "            else:\n",
    "                s[4]+=1\n",
    "        else:\n",
    "            s[1]+=1\n",
    "            if i.islower():\n",
    "                s[3]+=1\n",
    "            else:\n",
    "                s[4]+=1    \n",
    "    return s[0],s[1],s[2],s[3],s[4]"
   ]
  },
  {
   "cell_type": "code",
   "execution_count": 21,
   "metadata": {},
   "outputs": [],
   "source": [
    "assert string_stat(\"Тевирп\") == (2, 4, 0, 5, 1)\n",
    "assert string_stat(\"КоРоВа4\") == (3, 3, 1, 3, 3)\n",
    "#TODO 2 своих теста\n",
    "assert string_stat('111ХоРоШо111') == (3,3,6,3,3)\n",
    "assert string_stat('Ума2Рман') == (3,4,1,5,2)"
   ]
  },
  {
   "cell_type": "markdown",
   "metadata": {},
   "source": [
    "# Воскресенье - ВЫХОДНОЙ"
   ]
  },
  {
   "cell_type": "markdown",
   "metadata": {},
   "source": [
    "# Понедельник"
   ]
  },
  {
   "cell_type": "code",
   "execution_count": null,
   "metadata": {},
   "outputs": [],
   "source": [
    "#TODO инвертируйте словарь из k - [v_1, v_2] в v_1 [k_1]\n",
    "def dict_inverter(input_dict):\n",
    "    return {}"
   ]
  },
  {
   "cell_type": "code",
   "execution_count": null,
   "metadata": {},
   "outputs": [],
   "source": [
    "assert dict_inverter({\"mango\" : [\"eatable\"], \"pillow\": [\"sleepable\"]}) == {\"eatable\": \"mango\", \"sleepable\": \"pillow\"}\n",
    "assert dict_inverter({\"mango\" : [\"eatable\", \"readable\"]}) == {\"readable\":\"mango\", \"eatable\":\"mango\"}\n",
    "assert dict_inverter({\"mango\" : [\"eatable\"], \"banana\": [\"eatable\"]}) == {\"eatable\": [\"mango\", \"banana\"]}\n",
    "\n",
    "#TODO Один свой тест"
   ]
  },
  {
   "cell_type": "markdown",
   "metadata": {},
   "source": [
    "# Вторник"
   ]
  },
  {
   "cell_type": "code",
   "execution_count": null,
   "metadata": {},
   "outputs": [],
   "source": [
    "#TODO вывести уникальные элементы массива\n",
    "def uniq_array(input_arr):\n",
    "    return []"
   ]
  },
  {
   "cell_type": "code",
   "execution_count": null,
   "metadata": {},
   "outputs": [],
   "source": [
    "assert uniq_array([0]) == [0]\n",
    "assert uniq_array([0, 1, 2, 3]) == [0, 1, 2, 3]\n",
    "assert uniq_array([\"f\", \"t\", \"f\"]) == ['t', 'f']\n",
    "assert uniq_array(['rt', 'rt']) == ['rt']"
   ]
  }
 ],
 "metadata": {
  "kernelspec": {
   "display_name": "Python 3",
   "language": "python",
   "name": "python3"
  },
  "language_info": {
   "codemirror_mode": {
    "name": "ipython",
    "version": 3
   },
   "file_extension": ".py",
   "mimetype": "text/x-python",
   "name": "python",
   "nbconvert_exporter": "python",
   "pygments_lexer": "ipython3",
   "version": "3.5.2"
  }
 },
 "nbformat": 4,
 "nbformat_minor": 2
}
